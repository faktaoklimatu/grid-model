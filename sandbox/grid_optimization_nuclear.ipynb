{
  "cells": [
    {
      "cell_type": "markdown",
      "metadata": {},
      "source": [
        "# Czech 2050 nuclear scenarios analysis\n"
      ]
    },
    {
      "cell_type": "markdown",
      "metadata": {},
      "source": [
        "## Imports\n"
      ]
    },
    {
      "cell_type": "code",
      "execution_count": null,
      "metadata": {},
      "outputs": [],
      "source": [
        "# Add parent dir to the path, so we can load the module\n",
        "\n",
        "import os\n",
        "import sys\n",
        "from typing import Optional\n",
        "\n",
        "sys.path.append(os.path.dirname(os.path.abspath(\"\")))\n",
        "\n",
        "from energy_insights.execution_utils import optimize_runs, get_extrapolator\n",
        "from energy_insights.loaders.ember_ng import EmberNgLoader\n",
        "from energy_insights.region import *\n",
        "from energy_insights.scenarios.czech_nuclear import (\n",
        "    construct_grid, make_nuclear_scenarios, make_original_scenarios\n",
        ")\n"
      ]
    },
    {
      "cell_type": "markdown",
      "metadata": {},
      "source": [
        "## Config\n"
      ]
    },
    {
      "cell_type": "code",
      "execution_count": null,
      "metadata": {},
      "outputs": [],
      "source": [
        "load_hydro_from_pecd = True\n",
        "load_demand_from_pecd = True\n",
        "common_year = 2008\n",
        "pecd_year = 2008\n",
        "entsoe_year = 2020  # ENTSO-E has only data back to 2010, we need a fallback year for the load.\n",
        "aggregation_level: Optional[str] = \"coarse\"\n",
        "\n",
        "extrapolator = get_extrapolator(data_path=\"../data/\")\n",
        "\n",
        "ember_loader = EmberNgLoader(\n",
        "    entsoe_year=entsoe_year,\n",
        "    pecd_year=pecd_year,\n",
        "    common_year=common_year,\n",
        "    data_file=\"../data/ember/Raw data - New Generation.xlsx\",\n",
        "    tyndp_input_file=\"../data/tyndp/Draft_Demand_Scenarios_TYNDP_2024.xlsb\",\n",
        "    load_hydro_from_pecd=load_hydro_from_pecd,\n",
        "    load_demand_from_pecd=load_demand_from_pecd,\n",
        "    extrapolator=extrapolator)\n",
        "\n",
        "\n",
        "def make_nuclear_run(ember_scenario: str,\n",
        "                     target_year_europe: int,\n",
        "                     target_year_cz: int) -> dict:\n",
        "    short_name: str = ember_scenario.lower().replace(\" \", \"-\")\n",
        "\n",
        "    return {\n",
        "        \"config\": {\n",
        "            \"common_year\": common_year,\n",
        "            \"entsoe_year\": entsoe_year,\n",
        "            \"pecd_year\": pecd_year,\n",
        "            \"load_hydro_from_pecd\": load_hydro_from_pecd,\n",
        "            \"load_demand_from_pecd\": load_demand_from_pecd,\n",
        "            \"analysis_name\": f\"ember-{short_name}\",\n",
        "            \"filter\": {\n",
        "                \"week_sampling\": 4,  # Plot every fourth week in the output.\n",
        "                \"countries\": [CZECHIA],\n",
        "                # \"days\": [\n",
        "                #     \"2020-07-08\", \"2020-07-09\", \"2020-07-10\",\n",
        "                #     \"2020-11-25\", \"2020-11-26\", \"2020-11-27\"\n",
        "                # ],\n",
        "            },\n",
        "            \"output\": {\n",
        "                # \"max_gw\": 17,\n",
        "                # \"min_gw\": -5.5,\n",
        "                # \"size_x_week\": 0.8,\n",
        "                \"format\": \"png\",\n",
        "                # \"format\": \"svg\",\n",
        "                \"dpi\": 150,\n",
        "                \"size_y_week\": 0.7,\n",
        "                \"parts\": [\"titles\", \"weeks\", \"week_summary\", \"year_stats\"],\n",
        "                # \"parts\": [\"weeks\"],\n",
        "                \"regions\": \"separate\",\n",
        "            },\n",
        "            \"optimize_capex\": True,\n",
        "            \"input_costs\": \"2050-SEK\",\n",
        "            \"optimize_ramp_up_costs\": True,\n",
        "            # \"load_previous_solution\": True,\n",
        "            \"import_ppa_price\": 60,\n",
        "            # \"solver\": \"Mosek\",\n",
        "            \"store_model\": False,\n",
        "        } | construct_grid(ember_loader, ember_scenario, target_year_europe,\n",
        "                           aggregation_level=aggregation_level),\n",
        "        \"scenarios\": make_nuclear_scenarios(ember_loader, ember_scenario, target_year_cz),\n",
        "        # \"scenarios\": make_original_scenario(ember_loader, ember_scenario, target_year_europe),\n",
        "    }\n"
      ]
    },
    {
      "cell_type": "code",
      "execution_count": null,
      "metadata": {},
      "outputs": [],
      "source": [
        "runs = [\n",
        "    # Nuclear analysis scenarios:\n",
        "    # make_nuclear_run(EmberNgLoader.STATED_POLICY, 2050, 2050),\n",
        "    # make_nuclear_run(EmberNgLoader.TECHNOLOGY_DRIVEN_BATTERY, 2050, 2050),\n",
        "\n",
        "    # Optimistic sensitivity scenarios (in terms of build-out / progress).\n",
        "    # make_nuclear_run(EmberNgLoader.NUCLEAR_PLUS, 2050, 2050),\n",
        "\n",
        "    # Pessimistic sensitivity scenarios, 2040 to strengthen the effect.\n",
        "    # make_nuclear_run(EmberNgLoader.DELAYED_INTERCONNECTIONS, 2040, 2050),\n",
        "    make_nuclear_run(EmberNgLoader.NO_GAS_WITH_CCS, 2040, 2050),\n",
        "    # make_nuclear_run(EmberNgLoader.RESISTANCE_TO_RES, 2040, 2050),\n",
        "\n",
        "    # Excluded scenarios:\n",
        "    # - core pathways:\n",
        "    # make_nuclear_run(EmberNgLoader.SYSTEM_CHANGE, 2050, 2050),\n",
        "    # - optimistic sensitivity scenarios:\n",
        "    # make_nuclear_run(EmberNgLoader.SYSTEM_CHANGE_BATTERY, 2050, 2050),\n",
        "    # make_nuclear_run(EmberNgLoader.TECHNOLOGY_DRIVEN_BATTERY, 2050, 2050),\n",
        "    # make_nuclear_run(EmberNgLoader.ALTERNATIVE_HYDROGEN_SUPPLY, 2050, 2050),\n",
        "    # - pessimistic sensitivity scenarios:\n",
        "    # make_nuclear_run(EmberNgLoader.HIGHER_FOSSIL_FUEL_PRICES, 2040, 2050),\n",
        "    # make_nuclear_run(EmberNgLoader.LIMITED_NEW_GAS, 2040, 2050),\n",
        "    # make_nuclear_run(EmberNgLoader.LOWER_DEMAND_FLEXIBILITY, 2040, 2050),\n",
        "]\n"
      ]
    },
    {
      "cell_type": "markdown",
      "metadata": {},
      "source": [
        "## Execution\n"
      ]
    },
    {
      "cell_type": "code",
      "execution_count": null,
      "metadata": {},
      "outputs": [],
      "source": [
        "optimize_runs(runs, extrapolator=extrapolator)"
      ]
    }
  ],
  "metadata": {
    "kernelspec": {
      "display_name": "Python 3.9.15 64-bit",
      "language": "python",
      "name": "python3"
    },
    "language_info": {
      "codemirror_mode": {
        "name": "ipython",
        "version": 3
      },
      "file_extension": ".py",
      "mimetype": "text/x-python",
      "name": "python",
      "nbconvert_exporter": "python",
      "pygments_lexer": "ipython3",
      "version": "3.9.18"
    },
    "orig_nbformat": 4,
    "vscode": {
      "interpreter": {
        "hash": "a665b5d41d17b532ea9890333293a1b812fa0b73c9c25c950b3cedf1bebd0438"
      }
    }
  },
  "nbformat": 4,
  "nbformat_minor": 2
}
