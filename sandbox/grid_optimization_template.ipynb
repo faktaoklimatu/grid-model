{
  "cells": [
    {
      "cell_type": "markdown",
      "metadata": {},
      "source": [
        "# Grid dispatch optimization by linear programming\n"
      ]
    },
    {
      "cell_type": "markdown",
      "metadata": {},
      "source": [
        "## Imports\n"
      ]
    },
    {
      "cell_type": "code",
      "execution_count": 1,
      "metadata": {},
      "outputs": [],
      "source": [
        "# Add parent dir to the path, so we can load the module\n",
        "\n",
        "import os\n",
        "import sys\n",
        "\n",
        "sys.path.append(os.path.dirname(os.path.abspath(\"\")))\n",
        "\n",
        "from energy_insights.execution_utils import optimize_runs, get_extrapolator\n",
        "from energy_insights.loaders.ember_ng import EmberNgLoader\n",
        "from energy_insights.region import *\n",
        "from energy_insights.sources.basic_source import BasicSourceType\n",
        "from energy_insights.sources.flexible_source import FlexibleSourceType\n",
        "from energy_insights.sources.storage import StorageType\n"
      ]
    },
    {
      "cell_type": "markdown",
      "metadata": {},
      "source": [
        "## Config\n"
      ]
    },
    {
      "cell_type": "code",
      "execution_count": 3,
      "metadata": {},
      "outputs": [],
      "source": [
        "runs = [\n",
        "    {\n",
        "        \"config\": {\n",
        "            \"analysis_name\": \"my-example-run\",\n",
        "\n",
        "            # Variant 1: Base everything on entsoe data.\n",
        "            \"year\": 2020,\n",
        "            # Variant 2: Base almost everything on PECD data.\n",
        "            # \"common_year\": 2016,\n",
        "            # \"entsoe_year\": 2016,\n",
        "            # \"pecd_year\": 2016,\n",
        "\n",
        "            \"filter\": {\n",
        "                \"week_sampling\": 4,  # Plot every fourth week in the output.\n",
        "                # \"countries\": [CZECHIA],\n",
        "                # \"days\": [\n",
        "                #     \"2020-06-11\", \"2020-06-12\", \"2020-06-13\",\n",
        "                #     \"2020-11-25\", \"2020-11-26\", \"2020-11-27\"\n",
        "                # ],\n",
        "            },\n",
        "            \"output\": {\n",
        "                \"format\": \"png\",\n",
        "                \"dpi\": 150,\n",
        "                \"size_y_week\": 0.7,\n",
        "                \"parts\": [\"titles\", \"weeks\", \"week_summary\", \"year_stats\"],\n",
        "            },\n",
        "            # \"optimize_capex\": True,\n",
        "            # \"optimize_ramp_up_costs\": True,\n",
        "            \"store_model\": False,\n",
        "            \"solver\": \"HiGHS\",\n",
        "        },\n",
        "        # Define scenarios. For examples, see energy_insights/scenarios/examples.py.\n",
        "        \"scenarios\": [\n",
        "        ]\n",
        "    },\n",
        "]"
      ]
    },
    {
      "cell_type": "markdown",
      "metadata": {},
      "source": [
        "## Execution\n"
      ]
    },
    {
      "cell_type": "code",
      "execution_count": null,
      "metadata": {},
      "outputs": [],
      "source": [
        "optimize_runs(runs)"
      ]
    }
  ],
  "metadata": {
    "kernelspec": {
      "display_name": "Python 3.9.15 64-bit",
      "language": "python",
      "name": "python3"
    },
    "language_info": {
      "codemirror_mode": {
        "name": "ipython",
        "version": 3
      },
      "file_extension": ".py",
      "mimetype": "text/x-python",
      "name": "python",
      "nbconvert_exporter": "python",
      "pygments_lexer": "ipython3",
      "version": "3.9.18"
    },
    "orig_nbformat": 4,
    "vscode": {
      "interpreter": {
        "hash": "a665b5d41d17b532ea9890333293a1b812fa0b73c9c25c950b3cedf1bebd0438"
      }
    }
  },
  "nbformat": 4,
  "nbformat_minor": 2
}
